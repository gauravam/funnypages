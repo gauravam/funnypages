{
  "nbformat": 4,
  "nbformat_minor": 0,
  "metadata": {
    "colab": {
      "name": "classification c-v.ipynb",
      "provenance": [],
      "collapsed_sections": []
    },
    "kernelspec": {
      "name": "python3",
      "display_name": "Python 3"
    }
  },
  "cells": [
    {
      "cell_type": "markdown",
      "metadata": {
        "id": "50WgtYhHyUux"
      },
      "source": [
        "# Basic Classification Development Set \r\n",
        "\r\n"
      ]
    },
    {
      "cell_type": "code",
      "metadata": {
        "id": "yJ6FSuYMSqOz"
      },
      "source": [
        "import pandas as pd\r\n",
        "\r\n",
        "from sklearn import model_selection\r\n",
        "\r\n",
        "def classification_cv(path,split):\r\n",
        "  df=pd.read_csv(str(path))\r\n",
        "\r\n",
        "  df[\"kfold\"] = -1 \r\n",
        "\r\n",
        "  df = df.sample(frac=1).reset_index(drop=True)\r\n",
        "\r\n",
        "  kf = model_selection.KFold(n_splits=split)\r\n",
        "\r\n",
        "  for fold,(trn_, val_) in enumerate(kf.split(X=df)):\r\n",
        "    df.loc[val_,'kfold']=fold\r\n",
        "  \r\n",
        "\r\n",
        "  df.to_csv(\"train_fold.csv\",index=False)"
      ],
      "execution_count": null,
      "outputs": []
    },
    {
      "cell_type": "code",
      "metadata": {
        "id": "tyKTlhIOWNDG"
      },
      "source": [
        "path=\"/content/drive/MyDrive/py files [A]/tsne /data_folder/mnist_train.csv\"\r\n",
        "split=5"
      ],
      "execution_count": null,
      "outputs": []
    },
    {
      "cell_type": "code",
      "metadata": {
        "id": "pTQjp-otWzmB"
      },
      "source": [
        "classification_cv(path,split)"
      ],
      "execution_count": null,
      "outputs": []
    },
    {
      "cell_type": "code",
      "metadata": {
        "id": "g6lNW6tTXaU9"
      },
      "source": [
        "dfs=pd."
      ],
      "execution_count": null,
      "outputs": []
    }
  ]
}